{
 "cells": [
  {
   "cell_type": "code",
   "execution_count": 1,
   "metadata": {},
   "outputs": [],
   "source": [
    "import pandas as pd\n",
    "import numpy as np\n",
    "import matplotlib.pyplot as plt\n",
    "import seaborn as sns\n",
    "from pandas import ExcelWriter\n",
    "import random\n",
    "import pickle\n",
    "from sklearn.model_selection import train_test_split\n",
    "from scipy.stats import ks_2samp\n",
    "import random\n",
    "random.seed(123)"
   ]
  },
  {
   "cell_type": "code",
   "execution_count": 2,
   "metadata": {
    "scrolled": true
   },
   "outputs": [],
   "source": [
    "new_df = pd.read_csv('AmountVariables.csv')"
   ]
  },
  {
   "cell_type": "code",
   "execution_count": 3,
   "metadata": {},
   "outputs": [],
   "source": [
    "## calculate fraud detection rate @ 3% for model results\n",
    "def fdr_cal(pred_prob, label):\n",
    "    df = pd.DataFrame(pred_prob,columns=['prob_nonfraud', 'prob_fraud'])\n",
    "    df['label'] = label.values\n",
    "    df = df.sort_values('prob_fraud', ascending = False)\n",
    "    df_top = df[:round(len(df)*0.03)]\n",
    "    return sum(df_top['label'])/sum(df['label'])"
   ]
  },
  {
   "cell_type": "code",
   "execution_count": 100,
   "metadata": {},
   "outputs": [],
   "source": [
    "## Divide into OOT and Train/Test\n",
    "\n",
    "## Standardizes in-place\n",
    "def standardize(df, colnames):\n",
    "    for col in colnames:\n",
    "        tmp_sd=df[col].std()\n",
    "        tmp_mean=df[col].mean()\n",
    "        df[col] = (df[col]-tmp_mean) / tmp_sd\n",
    "standardize(new_df,list(new_df)[11:])\n",
    "\n",
    "int_df = new_df[new_df[\"Date\"] < new_df[\"Date\"][84461]] \n",
    "oot_df = new_df[new_df[\"Date\"] > new_df[\"Date\"][84288]]"
   ]
  },
  {
   "cell_type": "code",
   "execution_count": 106,
   "metadata": {},
   "outputs": [],
   "source": [
    "selected_df = pd.read_csv('selected_df.csv')\n",
    "selected_df = selected_df.drop(columns=['Unnamed: 0'])"
   ]
  },
  {
   "cell_type": "code",
   "execution_count": 107,
   "metadata": {},
   "outputs": [],
   "source": [
    "features = list(selected_df)[1:]"
   ]
  },
  {
   "cell_type": "code",
   "execution_count": 109,
   "metadata": {},
   "outputs": [
    {
     "name": "stderr",
     "output_type": "stream",
     "text": [
      "/Users/Yao.Lu@ibm.com/anaconda3/lib/python3.6/site-packages/sklearn/utils/validation.py:761: DataConversionWarning: A column-vector y was passed when a 1d array was expected. Please change the shape of y to (n_samples, ), for example using ravel().\n",
      "  y = column_or_1d(y, warn=True)\n"
     ]
    },
    {
     "name": "stdout",
     "output_type": "stream",
     "text": [
      "length of oversampled data is  116998\n",
      "Number of non-fraud in oversampled data 58499\n",
      "Number of fraud 58499\n",
      "Proportion of non-fraud data in oversampled data is  0.5\n",
      "Proportion of fraud data in oversampled data is  0.5\n"
     ]
    }
   ],
   "source": [
    "## Oversampling\n",
    "X = selected_df.loc[:, selected_df.columns != 'Fraud']\n",
    "y = selected_df.loc[:, selected_df.columns == 'Fraud']\n",
    "from imblearn.over_sampling import SMOTE\n",
    "os = SMOTE(random_state=0)\n",
    "X_train, X_test, y_train, y_test = train_test_split(X, y, test_size=0.3, random_state=0)\n",
    "columns = X_train.columns\n",
    "os_data_X,os_data_y=os.fit_sample(X_train, y_train)\n",
    "os_data_X = pd.DataFrame(data=os_data_X,columns=columns )\n",
    "os_data_y= pd.DataFrame(data=os_data_y,columns=['Fraud'])\n",
    "# we can Check the numbers of our data\n",
    "print(\"length of oversampled data is \",len(os_data_X))\n",
    "print(\"Number of non-fraud in oversampled data\",len(os_data_y[os_data_y['Fraud']==0]))\n",
    "print(\"Number of fraud\",len(os_data_y[os_data_y['Fraud']==1]))\n",
    "print(\"Proportion of non-fraud data in oversampled data is \",len(os_data_y[os_data_y['Fraud']==0])/len(os_data_X))\n",
    "print(\"Proportion of fraud data in oversampled data is \",len(os_data_y[os_data_y['Fraud']==1])/len(os_data_X))"
   ]
  },
  {
   "cell_type": "markdown",
   "metadata": {},
   "source": [
    "Logistic Regression"
   ]
  },
  {
   "cell_type": "code",
   "execution_count": 110,
   "metadata": {},
   "outputs": [
    {
     "name": "stdout",
     "output_type": "stream",
     "text": [
      "Optimization terminated successfully.\n",
      "         Current function value: 0.410233\n",
      "         Iterations 12\n",
      "                             Results: Logit\n",
      "=========================================================================\n",
      "Model:                  Logit              Pseudo R-squared:   0.408     \n",
      "Dependent Variable:     Fraud              AIC:                96030.9667\n",
      "Date:                   2018-12-11 13:46   BIC:                96214.6950\n",
      "No. Observations:       116998             Log-Likelihood:     -47996.   \n",
      "Df Model:               18                 LL-Null:            -81097.   \n",
      "Df Residuals:           116979             LLR p-value:        0.0000    \n",
      "Converged:              1.0000             Scale:              1.0000    \n",
      "No. Iterations:         12.0000                                          \n",
      "-------------------------------------------------------------------------\n",
      "                          Coef.  Std.Err.    z     P>|z|   [0.025  0.975]\n",
      "-------------------------------------------------------------------------\n",
      "Amount_cn_st_actual       1.6218   0.0488  33.2059 0.0000  1.5261  1.7175\n",
      "Amount_mn_30d_act-avg     0.5671   0.0354  16.0275 0.0000  0.4978  0.6365\n",
      "Amount_cn_14d_act-avg     1.5906   0.0645  24.6663 0.0000  1.4642  1.7170\n",
      "Amount_mn_7d_act-avg      0.0660   0.0352   1.8718 0.0612 -0.0031  0.1350\n",
      "Amount_cn_7d_act-avg     -1.1550   0.0611 -18.8919 0.0000 -1.2748 -1.0351\n",
      "Amount_cn_st_7d_sum       0.2664   0.0346   7.7021 0.0000  0.1986  0.3342\n",
      "Amount_cn_st_4d_avg       1.0861   0.0541  20.0879 0.0000  0.9801  1.1920\n",
      "Amount_cn_14d_sum         0.7905   0.0243  32.5376 0.0000  0.7428  0.8381\n",
      "Amount_cn_st_30d_act-avg -0.8336   0.0417 -19.9893 0.0000 -0.9154 -0.7519\n",
      "Amount_cn_st_7d_avg      -0.5333   0.0687  -7.7682 0.0000 -0.6679 -0.3988\n",
      "Amount_mn_30d_act/avg     0.1206   0.0090  13.3744 0.0000  0.1029  0.1382\n",
      "Amount_cn_30d_act/avg    -0.2429   0.0374  -6.4931 0.0000 -0.3162 -0.1696\n",
      "Amount_cn_mn_7d_sum       1.1701   0.0557  21.0096 0.0000  1.0610  1.2793\n",
      "Amount_cn_30d_sum        -0.7556   0.0265 -28.5421 0.0000 -0.8075 -0.7037\n",
      "Amount_cn_30d_act/sum     0.2288   0.0355   6.4488 0.0000  0.1593  0.2984\n",
      "Amount_cn_zip_30d_avg    -0.3128   0.0425  -7.3537 0.0000 -0.3962 -0.2294\n",
      "Amount_cn_zip_30d_sum     0.3963   0.0212  18.6784 0.0000  0.3547  0.4379\n",
      "Amount_cn_st_7d_act-avg   0.7856   0.0513  15.3102 0.0000  0.6850  0.8862\n",
      "Amount_mn_1d_avg          0.2387   0.0139  17.1409 0.0000  0.2114  0.2660\n",
      "=========================================================================\n",
      "\n"
     ]
    }
   ],
   "source": [
    "import statsmodels.api as sm\n",
    "logit_model=sm.Logit(os_data_y,os_data_X)\n",
    "result=logit_model.fit()\n",
    "print(result.summary2())"
   ]
  },
  {
   "cell_type": "code",
   "execution_count": 111,
   "metadata": {},
   "outputs": [],
   "source": [
    "selected_features = ['Amount_cn_st_actual',\n",
    " 'Amount_mn_30d_act-avg',\n",
    " 'Amount_cn_14d_act-avg',\n",
    " 'Amount_cn_7d_act-avg',\n",
    " 'Amount_cn_st_7d_sum',\n",
    " 'Amount_cn_st_4d_avg',\n",
    " 'Amount_cn_14d_sum',\n",
    " 'Amount_cn_st_30d_act-avg',\n",
    " 'Amount_cn_st_7d_avg',\n",
    " 'Amount_mn_30d_act/avg',\n",
    " 'Amount_cn_30d_act/avg',\n",
    " 'Amount_cn_mn_7d_sum',\n",
    " 'Amount_cn_30d_sum',\n",
    " 'Amount_cn_30d_act/sum',\n",
    " 'Amount_cn_zip_30d_avg',\n",
    " 'Amount_cn_zip_30d_sum',\n",
    " 'Amount_cn_st_7d_act-avg',\n",
    " 'Amount_mn_1d_avg']"
   ]
  },
  {
   "cell_type": "code",
   "execution_count": 112,
   "metadata": {},
   "outputs": [],
   "source": [
    "X=os_data_X[selected_features]\n",
    "y=os_data_y['Fraud']"
   ]
  },
  {
   "cell_type": "code",
   "execution_count": 113,
   "metadata": {},
   "outputs": [
    {
     "name": "stdout",
     "output_type": "stream",
     "text": [
      "Optimization terminated successfully.\n",
      "         Current function value: 0.410248\n",
      "         Iterations 12\n",
      "                             Results: Logit\n",
      "=========================================================================\n",
      "Model:                  Logit              Pseudo R-squared:   0.408     \n",
      "Dependent Variable:     Fraud              AIC:                96032.4431\n",
      "Date:                   2018-12-11 13:47   BIC:                96206.5015\n",
      "No. Observations:       116998             Log-Likelihood:     -47998.   \n",
      "Df Model:               17                 LL-Null:            -81097.   \n",
      "Df Residuals:           116980             LLR p-value:        0.0000    \n",
      "Converged:              1.0000             Scale:              1.0000    \n",
      "No. Iterations:         12.0000                                          \n",
      "-------------------------------------------------------------------------\n",
      "                          Coef.  Std.Err.    z     P>|z|   [0.025  0.975]\n",
      "-------------------------------------------------------------------------\n",
      "Amount_cn_st_actual       1.6168   0.0486  33.2377 0.0000  1.5215  1.7122\n",
      "Amount_mn_30d_act-avg     0.6124   0.0266  23.0222 0.0000  0.5603  0.6646\n",
      "Amount_cn_14d_act-avg     1.5822   0.0641  24.6785 0.0000  1.4565  1.7078\n",
      "Amount_cn_7d_act-avg     -1.1465   0.0608 -18.8461 0.0000 -1.2657 -1.0272\n",
      "Amount_cn_st_7d_sum       0.2664   0.0346   7.6978 0.0000  0.1986  0.3342\n",
      "Amount_cn_st_4d_avg       1.0859   0.0541  20.0818 0.0000  0.9799  1.1919\n",
      "Amount_cn_14d_sum         0.7911   0.0243  32.5667 0.0000  0.7435  0.8387\n",
      "Amount_cn_st_30d_act-avg -0.8268   0.0412 -20.0479 0.0000 -0.9076 -0.7460\n",
      "Amount_cn_st_7d_avg      -0.5326   0.0687  -7.7551 0.0000 -0.6672 -0.3980\n",
      "Amount_mn_30d_act/avg     0.1233   0.0089  13.9005 0.0000  0.1059  0.1407\n",
      "Amount_cn_30d_act/avg    -0.2416   0.0374  -6.4665 0.0000 -0.3149 -0.1684\n",
      "Amount_cn_mn_7d_sum       1.1680   0.0557  20.9661 0.0000  1.0588  1.2772\n",
      "Amount_cn_30d_sum        -0.7560   0.0265 -28.5457 0.0000 -0.8079 -0.7041\n",
      "Amount_cn_30d_act/sum     0.2281   0.0354   6.4333 0.0000  0.1586  0.2975\n",
      "Amount_cn_zip_30d_avg    -0.3089   0.0425  -7.2702 0.0000 -0.3922 -0.2257\n",
      "Amount_cn_zip_30d_sum     0.3966   0.0212  18.6916 0.0000  0.3550  0.4382\n",
      "Amount_cn_st_7d_act-avg   0.7845   0.0511  15.3367 0.0000  0.6842  0.8847\n",
      "Amount_mn_1d_avg          0.2364   0.0139  16.9979 0.0000  0.2092  0.2637\n",
      "=========================================================================\n",
      "\n"
     ]
    }
   ],
   "source": [
    "logit_model=sm.Logit(y,X)\n",
    "result=logit_model.fit()\n",
    "print(result.summary2())"
   ]
  },
  {
   "cell_type": "markdown",
   "metadata": {},
   "source": [
    "Logistic Regression Model Fit"
   ]
  },
  {
   "cell_type": "code",
   "execution_count": 10,
   "metadata": {},
   "outputs": [
    {
     "name": "stderr",
     "output_type": "stream",
     "text": [
      "/Users/Yao.Lu@ibm.com/anaconda3/lib/python3.6/site-packages/sklearn/linear_model/logistic.py:433: FutureWarning: Default solver will be changed to 'lbfgs' in 0.22. Specify a solver to silence this warning.\n",
      "  FutureWarning)\n"
     ]
    },
    {
     "data": {
      "text/plain": [
       "LogisticRegression(C=1.0, class_weight=None, dual=False, fit_intercept=True,\n",
       "          intercept_scaling=1, max_iter=100, multi_class='warn',\n",
       "          n_jobs=None, penalty='l2', random_state=1, solver='warn',\n",
       "          tol=0.0001, verbose=0, warm_start=False)"
      ]
     },
     "execution_count": 10,
     "metadata": {},
     "output_type": "execute_result"
    }
   ],
   "source": [
    "from sklearn.linear_model import LogisticRegression\n",
    "from sklearn import metrics\n",
    "logreg = LogisticRegression(random_state=1)\n",
    "logreg.fit(X, y)"
   ]
  },
  {
   "cell_type": "code",
   "execution_count": 46,
   "metadata": {},
   "outputs": [
    {
     "data": {
      "text/plain": [
       "0.949398065916716"
      ]
     },
     "execution_count": 46,
     "metadata": {},
     "output_type": "execute_result"
    }
   ],
   "source": [
    "#accuracy on test set\n",
    "y_pred = logreg.predict(X_test[selected_features])\n",
    "sum(y_pred == y_test['Fraud'])/len(X_test)"
   ]
  },
  {
   "cell_type": "code",
   "execution_count": 12,
   "metadata": {},
   "outputs": [
    {
     "name": "stdout",
     "output_type": "stream",
     "text": [
      "Accuracy of logistic regression classifier on test set: 0.95\n"
     ]
    }
   ],
   "source": [
    "print('Accuracy of logistic regression classifier on test set: {:.2f}'.format(logreg.score(X_test[selected_features], y_test['Fraud'])))"
   ]
  },
  {
   "cell_type": "code",
   "execution_count": 13,
   "metadata": {},
   "outputs": [
    {
     "name": "stdout",
     "output_type": "stream",
     "text": [
      "              precision    recall  f1-score   support\n",
      "\n",
      "           0       1.00      0.95      0.97     25068\n",
      "           1       0.15      0.85      0.26       267\n",
      "\n",
      "   micro avg       0.95      0.95      0.95     25335\n",
      "   macro avg       0.58      0.90      0.62     25335\n",
      "weighted avg       0.99      0.95      0.97     25335\n",
      "\n"
     ]
    }
   ],
   "source": [
    "#confusion metrics on test set\n",
    "from sklearn.metrics import classification_report\n",
    "print(classification_report(y_test, y_pred))"
   ]
  },
  {
   "cell_type": "code",
   "execution_count": 21,
   "metadata": {},
   "outputs": [
    {
     "data": {
      "text/plain": [
       "0.797752808988764"
      ]
     },
     "execution_count": 21,
     "metadata": {},
     "output_type": "execute_result"
    }
   ],
   "source": [
    "#fdr on test set\n",
    "pred_prob = logreg.predict_proba(X_test[selected_features])\n",
    "label = y_test['Fraud']\n",
    "fdr_cal(pred_prob, label)"
   ]
  },
  {
   "cell_type": "code",
   "execution_count": 14,
   "metadata": {},
   "outputs": [
    {
     "data": {
      "image/png": "[encoded data removed]",
      "text/plain": [
       "<Figure size 432x288 with 1 Axes>"
      ]
     },
     "metadata": {},
     "output_type": "display_data"
    }
   ],
   "source": [
    "#ROC on test set\n",
    "from sklearn.metrics import roc_auc_score\n",
    "from sklearn.metrics import roc_curve\n",
    "logit_roc_auc = roc_auc_score(y_test, logreg.predict(X_test[selected_features]))\n",
    "fpr, tpr, thresholds = roc_curve(y_test, logreg.predict_proba(X_test[selected_features])[:,1])\n",
    "plt.figure()\n",
    "plt.plot(fpr, tpr, label='Logistic Regression (area = %0.2f)' % logit_roc_auc)\n",
    "plt.plot([0, 1], [0, 1],'r--')\n",
    "plt.xlim([0.0, 1.0])\n",
    "plt.ylim([0.0, 1.05])\n",
    "plt.xlabel('False Positive Rate')\n",
    "plt.ylabel('True Positive Rate')\n",
    "plt.title('Receiver operating characteristic')\n",
    "plt.legend(loc=\"lower right\")\n",
    "plt.savefig('Log_ROC')\n",
    "plt.show()"
   ]
  },
  {
   "cell_type": "code",
   "execution_count": 56,
   "metadata": {},
   "outputs": [],
   "source": [
    "test_pred = pd.DataFrame(logreg.predict_proba(X_test[selected_features])[:,1],columns=['logit'])"
   ]
  },
  {
   "cell_type": "code",
   "execution_count": 15,
   "metadata": {},
   "outputs": [
    {
     "data": {
      "text/plain": [
       "0.9021737279095242"
      ]
     },
     "execution_count": 15,
     "metadata": {},
     "output_type": "execute_result"
    }
   ],
   "source": [
    "#AUC on test set\n",
    "logit_roc_auc"
   ]
  },
  {
   "cell_type": "code",
   "execution_count": 16,
   "metadata": {},
   "outputs": [
    {
     "data": {
      "text/plain": [
       "0.9526169773657679"
      ]
     },
     "execution_count": 16,
     "metadata": {},
     "output_type": "execute_result"
    }
   ],
   "source": [
    "#accuracy on training set\n",
    "y_pred = logreg.predict(X_train[selected_features])\n",
    "sum(y_pred == y_train['Fraud'])/len(X_train)"
   ]
  },
  {
   "cell_type": "code",
   "execution_count": 17,
   "metadata": {},
   "outputs": [
    {
     "data": {
      "text/plain": [
       "0.7772357723577236"
      ]
     },
     "execution_count": 17,
     "metadata": {},
     "output_type": "execute_result"
    }
   ],
   "source": [
    "#fdr on training set\n",
    "pred_prob = logreg.predict_proba(X_train[selected_features])\n",
    "label = y_train['Fraud']\n",
    "fdr_cal(pred_prob, label)"
   ]
  },
  {
   "cell_type": "code",
   "execution_count": 18,
   "metadata": {},
   "outputs": [
    {
     "data": {
      "image/png": "[encoded data removed]",
      "text/plain": [
       "<Figure size 432x288 with 1 Axes>"
      ]
     },
     "metadata": {},
     "output_type": "display_data"
    }
   ],
   "source": [
    "#ROC on training set\n",
    "from sklearn.metrics import roc_auc_score\n",
    "from sklearn.metrics import roc_curve\n",
    "logit_roc_auc = roc_auc_score(y_train, logreg.predict(X_train[selected_features]))\n",
    "fpr, tpr, thresholds = roc_curve(y_train, logreg.predict_proba(X_train[selected_features])[:,1])\n",
    "plt.figure()\n",
    "plt.plot(fpr, tpr, label='Logistic Regression (area = %0.2f)' % logit_roc_auc)\n",
    "plt.plot([0, 1], [0, 1],'r--')\n",
    "plt.xlim([0.0, 1.0])\n",
    "plt.ylim([0.0, 1.05])\n",
    "plt.xlabel('False Positive Rate')\n",
    "plt.ylabel('True Positive Rate')\n",
    "plt.title('Receiver operating characteristic')\n",
    "plt.legend(loc=\"lower right\")\n",
    "plt.savefig('Log_ROC')\n",
    "plt.show()"
   ]
  },
  {
   "cell_type": "code",
   "execution_count": 58,
   "metadata": {},
   "outputs": [],
   "source": [
    "train_pred = pd.DataFrame(logreg.predict_proba(X_train[selected_features])[:,1],columns=['logit'])"
   ]
  },
  {
   "cell_type": "code",
   "execution_count": 19,
   "metadata": {},
   "outputs": [
    {
     "data": {
      "text/plain": [
       "0.887568712521943"
      ]
     },
     "execution_count": 19,
     "metadata": {},
     "output_type": "execute_result"
    }
   ],
   "source": [
    "#AUC on training set\n",
    "logit_roc_auc"
   ]
  },
  {
   "cell_type": "code",
   "execution_count": 114,
   "metadata": {},
   "outputs": [
    {
     "data": {
      "text/plain": [
       "0.9508937340404635"
      ]
     },
     "execution_count": 114,
     "metadata": {},
     "output_type": "execute_result"
    }
   ],
   "source": [
    "#ACC on oot set\n",
    "X = oot_df.loc[:, selected_features]\n",
    "y = oot_df.loc[:, oot_df.columns == 'Fraud']\n",
    "y_pred = logreg.predict(X[selected_features])\n",
    "sum(y_pred == oot_df['Fraud'])/len(oot_df)"
   ]
  },
  {
   "cell_type": "code",
   "execution_count": 115,
   "metadata": {},
   "outputs": [
    {
     "data": {
      "text/plain": [
       "0.49142857142857144"
      ]
     },
     "execution_count": 115,
     "metadata": {},
     "output_type": "execute_result"
    }
   ],
   "source": [
    "#fdr on oot set\n",
    "pred_prob = logreg.predict_proba(X[selected_features])\n",
    "label = y['Fraud']\n",
    "fdr_cal(pred_prob, label)"
   ]
  },
  {
   "cell_type": "code",
   "execution_count": 116,
   "metadata": {},
   "outputs": [
    {
     "name": "stdout",
     "output_type": "stream",
     "text": [
      "[[9563  444]\n",
      " [  56  119]]\n"
     ]
    }
   ],
   "source": [
    "#confusion metrics on oot set\n",
    "from sklearn.metrics import confusion_matrix\n",
    "confusion_matrix = confusion_matrix(y, y_pred)\n",
    "print(confusion_matrix)"
   ]
  },
  {
   "cell_type": "code",
   "execution_count": 117,
   "metadata": {},
   "outputs": [
    {
     "name": "stdout",
     "output_type": "stream",
     "text": [
      "              precision    recall  f1-score   support\n",
      "\n",
      "           0       0.99      0.96      0.97     10007\n",
      "           1       0.21      0.68      0.32       175\n",
      "\n",
      "   micro avg       0.95      0.95      0.95     10182\n",
      "   macro avg       0.60      0.82      0.65     10182\n",
      "weighted avg       0.98      0.95      0.96     10182\n",
      "\n"
     ]
    }
   ],
   "source": [
    "from sklearn.metrics import classification_report\n",
    "print(classification_report(y, y_pred))"
   ]
  },
  {
   "cell_type": "code",
   "execution_count": 118,
   "metadata": {},
   "outputs": [
    {
     "data": {
      "image/png": "[encoded data removed]",
      "text/plain": [
       "<Figure size 432x288 with 1 Axes>"
      ]
     },
     "metadata": {},
     "output_type": "display_data"
    }
   ],
   "source": [
    "#ROC on oot set\n",
    "from sklearn.metrics import roc_auc_score\n",
    "from sklearn.metrics import roc_curve\n",
    "logit_roc_auc = roc_auc_score(y, logreg.predict(X[selected_features]))\n",
    "fpr, tpr, thresholds = roc_curve(y, logreg.predict_proba(X[selected_features])[:,1])\n",
    "plt.figure()\n",
    "plt.plot(fpr, tpr, label='Logistic Regression (area = %0.2f)' % logit_roc_auc)\n",
    "plt.plot([0, 1], [0, 1],'r--')\n",
    "plt.xlim([0.0, 1.0])\n",
    "plt.ylim([0.0, 1.05])\n",
    "plt.xlabel('False Positive Rate')\n",
    "plt.ylabel('True Positive Rate')\n",
    "plt.title('Receiver operating characteristic')\n",
    "plt.legend(loc=\"lower right\")\n",
    "##plt.savefig('Log_ROC')\n",
    "plt.show()"
   ]
  },
  {
   "cell_type": "code",
   "execution_count": 63,
   "metadata": {},
   "outputs": [],
   "source": [
    "oot_pred = pd.DataFrame(logreg.predict_proba(X[selected_features])[:,1],columns=['logit'])"
   ]
  },
  {
   "cell_type": "code",
   "execution_count": 119,
   "metadata": {},
   "outputs": [
    {
     "data": {
      "text/plain": [
       "0.8178155291296094"
      ]
     },
     "execution_count": 119,
     "metadata": {},
     "output_type": "execute_result"
    }
   ],
   "source": [
    "#AUC on oot set\n",
    "logit_roc_auc"
   ]
  },
  {
   "cell_type": "markdown",
   "metadata": {},
   "source": [
    "results without oversampling"
   ]
  },
  {
   "cell_type": "code",
   "execution_count": 93,
   "metadata": {},
   "outputs": [
    {
     "name": "stderr",
     "output_type": "stream",
     "text": [
      "/Users/Yao.Lu@ibm.com/anaconda3/lib/python3.6/site-packages/sklearn/linear_model/logistic.py:433: FutureWarning: Default solver will be changed to 'lbfgs' in 0.22. Specify a solver to silence this warning.\n",
      "  FutureWarning)\n"
     ]
    },
    {
     "data": {
      "text/plain": [
       "LogisticRegression(C=1.0, class_weight=None, dual=False, fit_intercept=True,\n",
       "          intercept_scaling=1, max_iter=100, multi_class='warn',\n",
       "          n_jobs=None, penalty='l2', random_state=None, solver='warn',\n",
       "          tol=0.0001, verbose=0, warm_start=False)"
      ]
     },
     "execution_count": 93,
     "metadata": {},
     "output_type": "execute_result"
    }
   ],
   "source": [
    "X=X_train[selected_features]\n",
    "y=y_train['Fraud']\n",
    "logreg2 = LogisticRegression()\n",
    "logreg2.fit(X, y)"
   ]
  },
  {
   "cell_type": "code",
   "execution_count": 94,
   "metadata": {},
   "outputs": [
    {
     "data": {
      "text/plain": [
       "0.9931320307874482"
      ]
     },
     "execution_count": 94,
     "metadata": {},
     "output_type": "execute_result"
    }
   ],
   "source": [
    "y_pred = logreg2.predict(X_test[selected_features])\n",
    "sum(y_pred == y_test['Fraud'])/len(X_test)"
   ]
  },
  {
   "cell_type": "code",
   "execution_count": 95,
   "metadata": {},
   "outputs": [
    {
     "name": "stdout",
     "output_type": "stream",
     "text": [
      "[[25034    34]\n",
      " [  140   127]]\n"
     ]
    }
   ],
   "source": [
    "from sklearn.metrics import confusion_matrix\n",
    "confusion_matrix = confusion_matrix(y_test, y_pred)\n",
    "print(confusion_matrix)"
   ]
  },
  {
   "cell_type": "code",
   "execution_count": 96,
   "metadata": {},
   "outputs": [
    {
     "name": "stdout",
     "output_type": "stream",
     "text": [
      "              precision    recall  f1-score   support\n",
      "\n",
      "           0       0.99      1.00      1.00     25068\n",
      "           1       0.79      0.48      0.59       267\n",
      "\n",
      "   micro avg       0.99      0.99      0.99     25335\n",
      "   macro avg       0.89      0.74      0.79     25335\n",
      "weighted avg       0.99      0.99      0.99     25335\n",
      "\n"
     ]
    }
   ],
   "source": [
    "from sklearn.metrics import classification_report\n",
    "print(classification_report(y_test, y_pred))"
   ]
  },
  {
   "cell_type": "code",
   "execution_count": 97,
   "metadata": {},
   "outputs": [
    {
     "data": {
      "image/png": "[encoded data removed]",
      "text/plain": [
       "<Figure size 432x288 with 1 Axes>"
      ]
     },
     "metadata": {},
     "output_type": "display_data"
    }
   ],
   "source": [
    "from sklearn.metrics import roc_auc_score\n",
    "from sklearn.metrics import roc_curve\n",
    "logit_roc_auc = roc_auc_score(y_test, logreg2.predict(X_test[selected_features]))\n",
    "fpr, tpr, thresholds = roc_curve(y_test, logreg2.predict_proba(X_test[selected_features])[:,1])\n",
    "plt.figure()\n",
    "plt.plot(fpr, tpr, label='Logistic Regression (area = %0.2f)' % logit_roc_auc)\n",
    "plt.plot([0, 1], [0, 1],'r--')\n",
    "plt.xlim([0.0, 1.0])\n",
    "plt.ylim([0.0, 1.05])\n",
    "plt.xlabel('False Positive Rate')\n",
    "plt.ylabel('True Positive Rate')\n",
    "plt.title('Receiver operating characteristic')\n",
    "plt.legend(loc=\"lower right\")\n",
    "##plt.savefig('Log_ROC')\n",
    "plt.show()"
   ]
  },
  {
   "cell_type": "code",
   "execution_count": 98,
   "metadata": {},
   "outputs": [
    {
     "data": {
      "text/plain": [
       "0.7371495599385403"
      ]
     },
     "execution_count": 98,
     "metadata": {},
     "output_type": "execute_result"
    }
   ],
   "source": [
    "logit_roc_auc"
   ]
  },
  {
   "cell_type": "code",
   "execution_count": 99,
   "metadata": {},
   "outputs": [
    {
     "data": {
      "text/plain": [
       "0.7865168539325843"
      ]
     },
     "execution_count": 99,
     "metadata": {},
     "output_type": "execute_result"
    }
   ],
   "source": [
    "pred_prob = logreg2.predict_proba(X_test[selected_features])\n",
    "label = y_test['Fraud']\n",
    "fdr_cal(pred_prob, label)"
   ]
  },
  {
   "cell_type": "markdown",
   "metadata": {},
   "source": [
    "NN"
   ]
  },
  {
   "cell_type": "code",
   "execution_count": 229,
   "metadata": {},
   "outputs": [],
   "source": [
    "X=os_data_X[features]\n",
    "y=os_data_y['Fraud']"
   ]
  },
  {
   "cell_type": "code",
   "execution_count": 230,
   "metadata": {},
   "outputs": [
    {
     "data": {
      "text/plain": [
       "MLPClassifier(activation='relu', alpha=0.0001, batch_size='auto', beta_1=0.9,\n",
       "       beta_2=0.999, early_stopping=False, epsilon=1e-08,\n",
       "       hidden_layer_sizes=(3, 3, 3), learning_rate='constant',\n",
       "       learning_rate_init=0.001, max_iter=500, momentum=0.9,\n",
       "       n_iter_no_change=10, nesterovs_momentum=True, power_t=0.5,\n",
       "       random_state=1, shuffle=True, solver='adam', tol=0.0001,\n",
       "       validation_fraction=0.1, verbose=False, warm_start=False)"
      ]
     },
     "execution_count": 230,
     "metadata": {},
     "output_type": "execute_result"
    }
   ],
   "source": [
    "#Model fitting\n",
    "from sklearn.neural_network import MLPClassifier\n",
    "mlp = MLPClassifier(hidden_layer_sizes=(3,3,3), max_iter=500, random_state=1)\n",
    "mlp.fit(X, y)"
   ]
  },
  {
   "cell_type": "code",
   "execution_count": 231,
   "metadata": {},
   "outputs": [],
   "source": [
    "#predictions on test set\n",
    "predictions = mlp.predict(X_test[features])"
   ]
  },
  {
   "cell_type": "code",
   "execution_count": 232,
   "metadata": {},
   "outputs": [
    {
     "name": "stdout",
     "output_type": "stream",
     "text": [
      "[[23742  1326]\n",
      " [   23   244]]\n"
     ]
    }
   ],
   "source": [
    "#confusion metrics on test set\n",
    "from sklearn.metrics import classification_report,confusion_matrix\n",
    "print(confusion_matrix(y_test,predictions))"
   ]
  },
  {
   "cell_type": "code",
   "execution_count": 233,
   "metadata": {},
   "outputs": [
    {
     "data": {
      "text/plain": [
       "0.9467535030590093"
      ]
     },
     "execution_count": 233,
     "metadata": {},
     "output_type": "execute_result"
    }
   ],
   "source": [
    "#ACC on test set\n",
    "y_pred = mlp.predict(X_test[features])\n",
    "sum(y_pred == y_test['Fraud'])/len(X_test)"
   ]
  },
  {
   "cell_type": "code",
   "execution_count": null,
   "metadata": {},
   "outputs": [],
   "source": [
    "print(classification_report(y_test,predictions))"
   ]
  },
  {
   "cell_type": "code",
   "execution_count": 234,
   "metadata": {},
   "outputs": [
    {
     "data": {
      "text/plain": [
       "0.8239700374531835"
      ]
     },
     "execution_count": 234,
     "metadata": {},
     "output_type": "execute_result"
    }
   ],
   "source": [
    "#FDR on test set\n",
    "pred_prob = mlp.predict_proba(X_test[features])\n",
    "label = y_test['Fraud']\n",
    "fdr_cal(pred_prob, label)"
   ]
  },
  {
   "cell_type": "code",
   "execution_count": 237,
   "metadata": {},
   "outputs": [
    {
     "data": {
      "image/png": "[encoded data removed]",
      "text/plain": [
       "<Figure size 432x288 with 1 Axes>"
      ]
     },
     "metadata": {},
     "output_type": "display_data"
    }
   ],
   "source": [
    "#ROC on test set\n",
    "from sklearn.metrics import roc_auc_score\n",
    "from sklearn.metrics import roc_curve\n",
    "nn_roc_auc = roc_auc_score(y_test, mlp.predict(X_test[features]))\n",
    "fpr, tpr, thresholds = roc_curve(y_test, mlp.predict_proba(X_test[features])[:,1])\n",
    "plt.figure()\n",
    "plt.plot(fpr, tpr, label='Logistic Regression (area = %0.2f)' % logit_roc_auc)\n",
    "plt.plot([0, 1], [0, 1],'r--')\n",
    "plt.xlim([0.0, 1.0])\n",
    "plt.ylim([0.0, 1.05])\n",
    "plt.xlabel('False Positive Rate')\n",
    "plt.ylabel('True Positive Rate')\n",
    "plt.title('Receiver operating characteristic')\n",
    "plt.legend(loc=\"lower right\")\n",
    "##plt.savefig('Log_ROC')\n",
    "plt.show()"
   ]
  },
  {
   "cell_type": "code",
   "execution_count": 72,
   "metadata": {},
   "outputs": [],
   "source": [
    "test_pred['nn'] = mlp.predict_proba(X_test[features])[:,1]"
   ]
  },
  {
   "cell_type": "code",
   "execution_count": 238,
   "metadata": {},
   "outputs": [
    {
     "data": {
      "text/plain": [
       "0.9304807776779743"
      ]
     },
     "execution_count": 238,
     "metadata": {},
     "output_type": "execute_result"
    }
   ],
   "source": [
    "#AUC on test set\n",
    "nn_roc_auc"
   ]
  },
  {
   "cell_type": "code",
   "execution_count": 239,
   "metadata": {},
   "outputs": [
    {
     "data": {
      "text/plain": [
       "0.9405814181889609"
      ]
     },
     "execution_count": 239,
     "metadata": {},
     "output_type": "execute_result"
    }
   ],
   "source": [
    "#ACC on oot\n",
    "X = oot_df.loc[:, features]\n",
    "y = oot_df.loc[:, oot_df.columns == 'Fraud']\n",
    "y_pred = mlp.predict(X[features])\n",
    "sum(y_pred == oot_df['Fraud'])/len(oot_df)"
   ]
  },
  {
   "cell_type": "code",
   "execution_count": 240,
   "metadata": {},
   "outputs": [
    {
     "name": "stdout",
     "output_type": "stream",
     "text": [
      "[[9458  549]\n",
      " [  56  119]]\n"
     ]
    }
   ],
   "source": [
    "#confusion metrics on oot\n",
    "from sklearn.metrics import classification_report,confusion_matrix\n",
    "print(confusion_matrix(y,y_pred))"
   ]
  },
  {
   "cell_type": "code",
   "execution_count": null,
   "metadata": {},
   "outputs": [],
   "source": [
    "print(classification_report(y,y_pred))"
   ]
  },
  {
   "cell_type": "code",
   "execution_count": 241,
   "metadata": {},
   "outputs": [
    {
     "data": {
      "image/png": "[encoded data removed]",
      "text/plain": [
       "<Figure size 432x288 with 1 Axes>"
      ]
     },
     "metadata": {},
     "output_type": "display_data"
    }
   ],
   "source": [
    "#ROC on oot\n",
    "from sklearn.metrics import roc_auc_score\n",
    "from sklearn.metrics import roc_curve\n",
    "NN_roc_auc = roc_auc_score(y, y_pred)\n",
    "fpr, tpr, thresholds = roc_curve(y, mlp.predict_proba(X[features])[:,1])\n",
    "plt.figure()\n",
    "plt.plot(fpr, tpr, label='Logistic Regression (area = %0.2f)' % logit_roc_auc)\n",
    "plt.plot([0, 1], [0, 1],'r--')\n",
    "plt.xlim([0.0, 1.0])\n",
    "plt.ylim([0.0, 1.05])\n",
    "plt.xlabel('False Positive Rate')\n",
    "plt.ylabel('True Positive Rate')\n",
    "plt.title('Receiver operating characteristic')\n",
    "plt.legend(loc=\"lower right\")\n",
    "##plt.savefig('Log_ROC')\n",
    "plt.show()"
   ]
  },
  {
   "cell_type": "code",
   "execution_count": 205,
   "metadata": {},
   "outputs": [],
   "source": [
    "oot_pred['nn'] = mlp.predict_proba(X[features])[:,1]"
   ]
  },
  {
   "cell_type": "code",
   "execution_count": 242,
   "metadata": {},
   "outputs": [
    {
     "data": {
      "text/plain": [
       "0.8125692015589088"
      ]
     },
     "execution_count": 242,
     "metadata": {},
     "output_type": "execute_result"
    }
   ],
   "source": [
    "#AUC on oot\n",
    "NN_roc_auc"
   ]
  },
  {
   "cell_type": "code",
   "execution_count": 243,
   "metadata": {},
   "outputs": [
    {
     "data": {
      "text/plain": [
       "0.5714285714285714"
      ]
     },
     "execution_count": 243,
     "metadata": {},
     "output_type": "execute_result"
    }
   ],
   "source": [
    "#fdr on oot\n",
    "pred_prob = mlp.predict_proba(X[features])\n",
    "label = y['Fraud']\n",
    "fdr_cal(pred_prob, label)"
   ]
  },
  {
   "cell_type": "code",
   "execution_count": 41,
   "metadata": {},
   "outputs": [
    {
     "data": {
      "text/plain": [
       "0.9838786074364787"
      ]
     },
     "execution_count": 41,
     "metadata": {},
     "output_type": "execute_result"
    }
   ],
   "source": [
    "#acc on training set\n",
    "y_pred = mlp.predict(X_train[features])\n",
    "sum(y_pred == y_train['Fraud'])/len(X_train)"
   ]
  },
  {
   "cell_type": "code",
   "execution_count": 42,
   "metadata": {},
   "outputs": [
    {
     "data": {
      "text/plain": [
       "0.983739837398374"
      ]
     },
     "execution_count": 42,
     "metadata": {},
     "output_type": "execute_result"
    }
   ],
   "source": [
    "#fdr on training set\n",
    "pred_prob = mlp.predict_proba(X_train[features])\n",
    "label = y_train['Fraud']\n",
    "fdr_cal(pred_prob, label)"
   ]
  },
  {
   "cell_type": "code",
   "execution_count": 43,
   "metadata": {},
   "outputs": [
    {
     "data": {
      "image/png": "[encoded data removed]",
      "text/plain": [
       "<Figure size 432x288 with 1 Axes>"
      ]
     },
     "metadata": {},
     "output_type": "display_data"
    }
   ],
   "source": [
    "#ROC on training set\n",
    "from sklearn.metrics import roc_auc_score\n",
    "from sklearn.metrics import roc_curve\n",
    "nn_roc_auc = roc_auc_score(y_train, y_pred)\n",
    "fpr, tpr, thresholds = roc_curve(y_train, mlp.predict_proba(X_train[features])[:,1])\n",
    "plt.figure()\n",
    "plt.plot(fpr, tpr, label='Logistic Regression (area = %0.2f)' % logit_roc_auc)\n",
    "plt.plot([0, 1], [0, 1],'r--')\n",
    "plt.xlim([0.0, 1.0])\n",
    "plt.ylim([0.0, 1.05])\n",
    "plt.xlabel('False Positive Rate')\n",
    "plt.ylabel('True Positive Rate')\n",
    "plt.title('Receiver operating characteristic')\n",
    "plt.legend(loc=\"lower right\")\n",
    "##plt.savefig('Log_ROC')\n",
    "plt.show()"
   ]
  },
  {
   "cell_type": "code",
   "execution_count": 79,
   "metadata": {},
   "outputs": [],
   "source": [
    "train_pred['nn'] = mlp.predict_proba(X_train[features])[:,1]"
   ]
  },
  {
   "cell_type": "code",
   "execution_count": 45,
   "metadata": {},
   "outputs": [
    {
     "data": {
      "text/plain": [
       "0.9830054908867178"
      ]
     },
     "execution_count": 45,
     "metadata": {},
     "output_type": "execute_result"
    }
   ],
   "source": [
    "#AUC on training set\n",
    "nn_roc_auc"
   ]
  },
  {
   "cell_type": "markdown",
   "metadata": {},
   "source": [
    "train_pred.to_csv('train_pred.csv')\n",
    "test_pred.to_csv('test_pred.csv')\n",
    "oot_pred.to_csv('oot_pred.csv')"
   ]
  },
  {
   "cell_type": "markdown",
   "metadata": {},
   "source": [
    "train_pred = pd.read_csv('train_pred.csv')\n",
    "test_pred = pd.read_csv('test_pred.csv')\n",
    "oot_pred = pd.read_csv('oot_pred.csv')"
   ]
  }
 ],
 "metadata": {
  "kernelspec": {
   "display_name": "Python 3",
   "language": "python",
   "name": "python3"
  },
  "language_info": {
   "codemirror_mode": {
    "name": "ipython",
    "version": 3
   },
   "file_extension": ".py",
   "mimetype": "text/x-python",
   "name": "python",
   "nbconvert_exporter": "python",
   "pygments_lexer": "ipython3",
   "version": "3.6.6"
  }
 },
 "nbformat": 4,
 "nbformat_minor": 2
}
