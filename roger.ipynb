{
 "cells": [
  {
   "cell_type": "code",
   "execution_count": 283,
   "metadata": {},
   "outputs": [],
   "source": [
    " # ----------- Overhead -------------\n",
    "\n",
    "import pandas as pd\n",
    "import numpy as np\n",
    "# import scipy.stat as sps\n",
    "import matplotlib.pyplot as plt\n",
    "import seaborn as sns\n",
    "# from pandas import ExcelWriter\n",
    "from sklearn import preprocessing\n",
    "from sklearn.decomposition import PCA\n",
    "from keras.models import Model\n",
    "from keras.layers import Input, Dense\n",
    "import numpy as np\n",
    "\n",
    "## Fix roger's stuff\n",
    "import os\n",
    "os.environ['KMP_DUPLICATE_LIB_OK']='True'\n"
   ]
  },
  {
   "cell_type": "code",
   "execution_count": 284,
   "metadata": {},
   "outputs": [],
   "source": [
    "df = pd.read_csv('NY property csv.csv')"
   ]
  },
  {
   "cell_type": "code",
   "execution_count": 285,
   "metadata": {},
   "outputs": [],
   "source": [
    "# --------------- Fill in NAs and 0s ----------\n",
    "\n",
    "# Create new variable BORO\n",
    "df['BORO'] = ''\n",
    "df['BORO'] = df.BBLE.str[0]\n",
    "\n",
    "# ZIP, sort by BBLE and forward fill\n",
    "df = df.sort_values(by = ['BBLE'])\n",
    "df['ZIP'].fillna(method='ffill',inplace = True)\n",
    "\n",
    "# Create ZIP3\n",
    "df['ZIP3']= df[\"ZIP\"].apply(lambda x: int(str(x)[0:3]))\n",
    "\n",
    "\n",
    "df['ll_rate'] = df['LTFRONT']/df['LTDEPTH']\n",
    "mean_llrate = np.mean(df['ll_rate'].dropna())\n",
    "df['LTFRONT'] = df['LTFRONT'].fillna(value = (df['LTDEPTH'] * mean_llrate))\n",
    "df['LTFRONT'] = df['LTDEPTH'].fillna(value = (df['LTFRONT'] / mean_llrate))\n",
    "np.std(df['LTFRONT'])\n",
    "# std = 73.7 without group\n",
    "# two methods to set 0 values as missing values\n",
    "df.loc[df['LTFRONT'] == 0, 'LTFRONT'] = np.nan\n",
    "# df['LTFRONT'] = df['LTFRONT'].replace(0,np.nan)\n",
    "\n",
    "# fill NA with average values grouped by BORO (if using TAXCLASS as well, \n",
    "# the filled values will be too big and there will be 2 missing values)\n",
    "df['LTFRONT'] = df.groupby(['BORO','TAXCLASS'])['LTFRONT'].transform(lambda x: x.fillna(x.mean()))\n",
    "df['LTFRONT'] = df.groupby(['TAXCLASS'])['LTFRONT'].transform(lambda x: x.fillna(x.mean()))\n",
    "\n",
    "\n",
    "df.loc[df['LTDEPTH'] == 0, 'LTDEPTH'] = np.nan\n",
    "df['LTDEPTH'] = df.groupby(['BORO','TAXCLASS'])['LTDEPTH'].transform(lambda x: x.fillna(x.mean()))\n",
    "df['LTDEPTH'] = df.groupby(['TAXCLASS'])['LTDEPTH'].transform(lambda x: x.fillna(x.mean()))\n",
    "\n",
    "# np.isnan(df['LTDEPTH']).sum()\n",
    "\n",
    "# Calculate BLDFRONT/BLDDEPTH ratio\n",
    "df.loc[df['BLDFRONT'] == 0, 'BLDFRONT'] = np.nan\n",
    "df.loc[df['BLDDEPTH'] == 0, 'BLDDEPTH'] = np.nan\n",
    "\n",
    "df['bb_rate'] = df['BLDFRONT']/df['BLDDEPTH']\n",
    "# distribution of the ratio\n",
    "# sns.distplot(df['BLDFRONT']/df['BLDDEPTH'].dropna(), bins = 1000,kde=False)\n",
    "# plt.xlim(0,2)\n",
    "\n",
    "median_bbrate = np.median(df['bb_rate'].dropna())\n",
    "df['BLDFRONT'] = df['BLDFRONT'].fillna(value = (df['BLDDEPTH'] * median_bbrate))\n",
    "df['BLDDEPTH'] = df['BLDDEPTH'].fillna(value = (df['BLDFRONT'] / median_bbrate))\n",
    "\n",
    "\n",
    "# For BLDFRONT and BLDDEPTH, if group by both BORO and TAXCLASS, there will appear NaN as well.\n",
    "df['BLDFRONT'] = df.groupby(['BORO','TAXCLASS'])['BLDFRONT'].transform(lambda x: x.fillna(x.mean()))\n",
    "df['BLDFRONT'] = df.groupby(['TAXCLASS'])['BLDFRONT'].transform(lambda x: x.fillna(x.mean()))\n",
    "\n",
    "# np.isnan(df['BLDFRONT']).sum()\n",
    "df['BLDDEPTH'] = df.groupby(['BORO','TAXCLASS'])['BLDDEPTH'].transform(lambda x: x.fillna(x.mean()))\n",
    "df['BLDDEPTH'] = df.groupby(['TAXCLASS'])['BLDDEPTH'].transform(lambda x: x.fillna(x.mean()))\n",
    "\n",
    "np.isnan(df['BLDFRONT']).sum()\n",
    "np.isnan(df['BLDDEPTH']).sum()\n",
    "\n",
    "df['STORIES'] = df.groupby(['ZIP','TAXCLASS'])['STORIES'].transform(lambda x: x.fillna(x.mean()))\n",
    "df['STORIES'] = df.groupby(['TAXCLASS'])['STORIES'].transform(lambda x: x.fillna(x.mean()))\n",
    "\n",
    "# np.isnan(df['STORIES']).sum()\n",
    "\n",
    "# building volume and bins accordingly\n",
    "df['bldvol'] = df['BLDFRONT'] * df['BLDDEPTH'] * df['STORIES']\n",
    "\n",
    "df['bldvol_bin'] = pd.qcut(df['bldvol'], 100, labels = False, duplicates = 'drop')\n",
    "\n",
    "# FULLVAL\n",
    "df.loc[df['FULLVAL'] == 0, 'FULLVAL'] = np.nan\n",
    "\n",
    "# df['FULLVAL']\n",
    "df['FULLVAL'] = df.groupby(['BORO','bldvol_bin'])['FULLVAL'].transform(lambda x: x.fillna(x.mean()))\n",
    "# np.isnan(df['FULLVAL']).sum()\n",
    "\n",
    "\n",
    "# AVLAND\n",
    "df.loc[df['AVLAND'] == 0, 'AVLAND'] = np.nan\n",
    "df['AVLAND'] = df.groupby(['BORO','bldvol_bin'])['AVLAND'].transform(lambda x: x.fillna(x.mean()))\n",
    "# np.isnan(df['AVLAND']).sum()\n",
    "\n",
    "\n",
    "# AVTOT\n",
    "df.loc[df['AVTOT'] == 0, 'AVTOT'] = np.nan\n",
    "df['AVTOT'] = df.groupby(['BORO','bldvol_bin'])['AVTOT'].transform(lambda x: x.fillna(x.mean()))\n",
    "# np.isnan(df['AVTOT']).sum()"
   ]
  },
  {
   "cell_type": "code",
   "execution_count": 286,
   "metadata": {},
   "outputs": [],
   "source": [
    "## Build 3 sizes\n",
    "## Build LotArea, Building Area, Building Volume\n",
    "df['lotarea'] = df['LTDEPTH'] * df['LTFRONT']\n",
    "df['bldarea'] = df['BLDFRONT'] * df['BLDDEPTH']\n",
    "df['bldvol'] = df['bldarea'] * df['STORIES']\n",
    "\n",
    "## Build 9 values\n",
    "## FV = FULLVAL, AL = AVLAND, AT = AVTOT\n",
    "## LA = LOTAREA, BA = BLDAREA, BV = BLDVOL\n",
    "df['fv_la'] = df['FULLVAL'] / df['lotarea']\n",
    "df['fv_ba'] = df['FULLVAL'] / df['bldarea']\n",
    "df['fv_bv'] = df['FULLVAL'] / df['bldvol']\n",
    "df['al_la'] = df['AVLAND'] / df['lotarea']\n",
    "df['al_ba'] = df['AVLAND'] / df['bldarea']\n",
    "df['al_bv'] = df['AVLAND'] / df['bldvol']\n",
    "df['at_la'] = df['AVTOT'] / df['lotarea']\n",
    "df['at_ba'] = df['AVTOT'] / df['bldarea']\n",
    "df['at_bv'] = df['AVTOT'] / df['bldvol']\n",
    "\n",
    "## Build 45 Group by values\n",
    "\n"
   ]
  },
  {
   "cell_type": "code",
   "execution_count": 287,
   "metadata": {},
   "outputs": [],
   "source": [
    "ninevars = ['fv_la','fv_ba','fv_bv','al_la','al_ba','al_bv','at_la','at_ba','at_bv']\n",
    "df = df.join(df.groupby(['ZIP'])[ninevars].mean(), on='ZIP', rsuffix='_zip')\n",
    "df = df.join(df.groupby(['ZIP3'])[ninevars].mean(), on='ZIP3', rsuffix='_zip3')\n",
    "df = df.join(df.groupby(['TAXCLASS'])[ninevars].mean(), on='TAXCLASS', rsuffix='_taxclass')\n",
    "df = df.join(df.groupby(['BORO'])[ninevars].mean(), on='BORO', rsuffix='_boro')\n",
    "# add stories bins\n",
    "df['story_bin'] = pd.qcut(df['STORIES'], 10, labels=False, duplicates = 'drop')\n",
    "df = df.join(df.groupby(['story_bin'])[ninevars].mean(), on='story_bin', rsuffix='_story')\n",
    "df = df.join(df.groupby(['BORO','TAXCLASS'])[ninevars].mean(), on=['BORO','TAXCLASS'], rsuffix='_BoroTax')\n"
   ]
  },
  {
   "cell_type": "code",
   "execution_count": 288,
   "metadata": {},
   "outputs": [],
   "source": [
    "newdf = df[['fv_la',\n",
    " 'fv_ba',\n",
    " 'fv_bv',\n",
    " 'al_la',\n",
    " 'al_ba',\n",
    " 'al_bv',\n",
    " 'at_la',\n",
    " 'at_ba',\n",
    " 'at_bv',\n",
    " 'fv_la_zip',\n",
    " 'fv_ba_zip',\n",
    " 'fv_bv_zip',\n",
    " 'al_la_zip',\n",
    " 'al_ba_zip',\n",
    " 'al_bv_zip',\n",
    " 'at_la_zip',\n",
    " 'at_ba_zip',\n",
    " 'at_bv_zip',\n",
    " 'fv_la_zip3',\n",
    " 'fv_ba_zip3',\n",
    " 'fv_bv_zip3',\n",
    " 'al_la_zip3',\n",
    " 'al_ba_zip3',\n",
    " 'al_bv_zip3',\n",
    " 'at_la_zip3',\n",
    " 'at_ba_zip3',\n",
    " 'at_bv_zip3',\n",
    " 'fv_la_taxclass',\n",
    " 'fv_ba_taxclass',\n",
    " 'fv_bv_taxclass',\n",
    " 'al_la_taxclass',\n",
    " 'al_ba_taxclass',\n",
    " 'al_bv_taxclass',\n",
    " 'at_la_taxclass',\n",
    " 'at_ba_taxclass',\n",
    " 'at_bv_taxclass',\n",
    " 'fv_la_boro',\n",
    " 'fv_ba_boro',\n",
    " 'fv_bv_boro',\n",
    " 'al_la_boro',\n",
    " 'al_ba_boro',\n",
    " 'al_bv_boro',\n",
    " 'at_la_boro',\n",
    " 'at_ba_boro',\n",
    " 'at_bv_boro',\n",
    " 'fv_la_story',\n",
    " 'fv_ba_story',\n",
    " 'fv_bv_story',\n",
    " 'al_la_story',\n",
    " 'al_ba_story',\n",
    " 'al_bv_story',\n",
    " 'at_la_story',\n",
    " 'at_ba_story',\n",
    " 'at_bv_story',\n",
    " 'fv_la_BoroTax',\n",
    " 'fv_ba_BoroTax',\n",
    " 'fv_bv_BoroTax',\n",
    " 'al_la_BoroTax',\n",
    " 'al_ba_BoroTax',\n",
    " 'al_bv_BoroTax',\n",
    " 'at_la_BoroTax',\n",
    " 'at_ba_BoroTax',\n",
    " 'at_bv_BoroTax']]\n",
    "\n",
    "# newdf.head()"
   ]
  },
  {
   "cell_type": "code",
   "execution_count": 289,
   "metadata": {},
   "outputs": [
    {
     "data": {
      "text/plain": [
       "fv_la             1.068234e-16\n",
       "fv_ba             1.904852e-16\n",
       "fv_bv            -3.079365e-16\n",
       "al_la             2.379177e-16\n",
       "al_ba             6.265363e-17\n",
       "al_bv             9.151735e-17\n",
       "at_la            -1.267877e-16\n",
       "at_ba            -2.480789e-16\n",
       "at_bv            -6.004325e-17\n",
       "fv_la_zip         3.174745e-13\n",
       "fv_ba_zip         4.593361e-13\n",
       "fv_bv_zip        -6.953283e-13\n",
       "al_la_zip        -1.797883e-13\n",
       "al_ba_zip        -2.217321e-15\n",
       "al_bv_zip        -1.356566e-13\n",
       "at_la_zip         2.322877e-13\n",
       "at_ba_zip        -1.690775e-13\n",
       "at_bv_zip         3.188577e-14\n",
       "fv_la_zip3       -1.486256e-12\n",
       "fv_ba_zip3        3.348692e-12\n",
       "fv_bv_zip3       -7.630473e-12\n",
       "al_la_zip3        6.273916e-12\n",
       "al_ba_zip3        1.153986e-12\n",
       "al_bv_zip3       -1.442909e-12\n",
       "at_la_zip3        3.156365e-12\n",
       "at_ba_zip3       -5.266331e-13\n",
       "at_bv_zip3       -1.362721e-12\n",
       "fv_la_taxclass   -4.750108e-13\n",
       "fv_ba_taxclass    2.787829e-12\n",
       "fv_bv_taxclass    1.807583e-12\n",
       "                      ...     \n",
       "at_la_taxclass   -2.293578e-12\n",
       "at_ba_taxclass    1.262766e-12\n",
       "at_bv_taxclass   -1.078490e-12\n",
       "fv_la_boro       -5.064343e-13\n",
       "fv_ba_boro        2.448195e-12\n",
       "fv_bv_boro        7.302179e-12\n",
       "al_la_boro        5.467909e-13\n",
       "al_ba_boro        1.042669e-12\n",
       "al_bv_boro       -3.755693e-12\n",
       "at_la_boro       -5.979004e-12\n",
       "at_ba_boro        1.128032e-12\n",
       "at_bv_boro        8.708823e-13\n",
       "fv_la_story      -1.506508e-12\n",
       "fv_ba_story       1.028790e-12\n",
       "fv_bv_story      -1.136779e-12\n",
       "al_la_story      -8.123344e-13\n",
       "al_ba_story       2.743979e-13\n",
       "al_bv_story      -6.219328e-13\n",
       "at_la_story       1.692772e-12\n",
       "at_ba_story      -8.017631e-13\n",
       "at_bv_story      -4.739820e-13\n",
       "fv_la_BoroTax     1.589560e-12\n",
       "fv_ba_BoroTax    -7.592478e-14\n",
       "fv_bv_BoroTax     1.318850e-12\n",
       "al_la_BoroTax     1.221298e-13\n",
       "al_ba_BoroTax    -1.083378e-13\n",
       "al_bv_BoroTax     1.331656e-13\n",
       "at_la_BoroTax    -1.314036e-12\n",
       "at_ba_BoroTax    -8.195230e-13\n",
       "at_bv_BoroTax    -2.082282e-13\n",
       "Length: 63, dtype: float64"
      ]
     },
     "execution_count": 289,
     "metadata": {},
     "output_type": "execute_result"
    }
   ],
   "source": [
    "# ---- Z scale to prepare for dimensionality reduction ----\n",
    "# Create the Scaler object\n",
    "scaler = preprocessing.StandardScaler()\n",
    "# Fit your data on the scaler object\n",
    "scaled_df = scaler.fit_transform(newdf)\n",
    "scaled_df = pd.DataFrame(scaled_df, columns=list(newdf))\n",
    "# scaled_df.head()\n",
    "scaled_df.mean(axis = 0)\n"
   ]
  },
  {
   "cell_type": "code",
   "execution_count": 290,
   "metadata": {},
   "outputs": [],
   "source": [
    "#mean(newdf['fv_la'])"
   ]
  },
  {
   "cell_type": "code",
   "execution_count": 291,
   "metadata": {},
   "outputs": [
    {
     "data": {
      "text/plain": [
       "(0, 1)"
      ]
     },
     "execution_count": 291,
     "metadata": {},
     "output_type": "execute_result"
    },
    {
     "data": {
      "image/png": "[encoded data removed]",
      "text/plain": [
       "<Figure size 432x288 with 1 Axes>"
      ]
     },
     "metadata": {
      "needs_background": "light"
     },
     "output_type": "display_data"
    }
   ],
   "source": [
    "pca = PCA(n_components = 0.99, svd_solver = 'full')\n",
    "pca.fit(scaled_df)\n",
    "plt.plot(np.cumsum(pca.explained_variance_ratio_))\n",
    "plt.xlabel('number of components')\n",
    "plt.ylabel('cumulative explained variance')\n",
    "plt.yticks(np.arange(0.05, 1.1, step=0.1))\n",
    "plt.xticks(np.arange(0, 20, step=5))\n",
    "# plt.axhline(y=0.85,  linestyle='--')\n",
    "plt.axvline(x= 10 ,  linestyle='--')\n",
    "plt.ylim(0,1)"
   ]
  },
  {
   "cell_type": "code",
   "execution_count": 292,
   "metadata": {},
   "outputs": [
    {
     "data": {
      "text/plain": [
       "10"
      ]
     },
     "execution_count": 292,
     "metadata": {},
     "output_type": "execute_result"
    }
   ],
   "source": [
    "# ---- PCA: reduce dimensions ----\n",
    "pca = PCA(n_components = .85, svd_solver = 'full')\n",
    "pca.fit(scaled_df)\n",
    "pca.n_components_"
   ]
  },
  {
   "cell_type": "code",
   "execution_count": 293,
   "metadata": {},
   "outputs": [
    {
     "name": "stdout",
     "output_type": "stream",
     "text": [
      "[0.25435587 0.41372482 0.50630309 0.57924094 0.6379599  0.68784081\n",
      " 0.73454583 0.77879508 0.81908364 0.85231235]\n"
     ]
    }
   ],
   "source": [
    "# Percentage of variance explained by each of the selected components.\n",
    "print(np.cumsum(pca.explained_variance_ratio_))"
   ]
  },
  {
   "cell_type": "code",
   "execution_count": 294,
   "metadata": {},
   "outputs": [],
   "source": [
    "# transformed dataframe\n",
    "pca_df = pd.DataFrame(data = pca.transform(scaled_df), columns =  [\"PC\" + str(i) for i in range(1, pca.n_components_+1)])"
   ]
  },
  {
   "cell_type": "code",
   "execution_count": 295,
   "metadata": {},
   "outputs": [],
   "source": [
    "# ---- Z scale to PCA dataframe ----\n",
    "\n",
    "scaled_pca = scaler.fit_transform(pca_df)\n",
    "scaled_pca = pd.DataFrame(scaled_pca, columns=list(pca_df))\n",
    "# scaled_pca.head()\n",
    "# scaled_pca.std(axis = 0)\n"
   ]
  },
  {
   "cell_type": "code",
   "execution_count": 296,
   "metadata": {},
   "outputs": [],
   "source": [
    "## Convert df to ndarray\n",
    "matrix_pca = scaled_pca.values"
   ]
  },
  {
   "cell_type": "code",
   "execution_count": 297,
   "metadata": {},
   "outputs": [],
   "source": [
    "## Autoencoder\n",
    "# def simple_auto_encode(input_matrix, compression_factor=1.1, encode_activation='tanh', decode_activation='linear',\n",
    "#                        optimizer='Adadelta', loss='mean_squared_error'):\n",
    "#     _, input_dim = matrix_pca.shape\n",
    "#     encoding_dim = int(input_dim // compression_factor)\n",
    "\n",
    "#     input_layer = Input(shape=(input_dim,))\n",
    "#     encode_layer = Dense(encoding_dim, activation=encode_activation)(input_layer)\n",
    "#     decode_layer = Dense(input_dim, activation=decode_activation)(encode_layer)\n",
    "\n",
    "#     auto_encoder = Model(input_layer, decode_layer)\n",
    "#     auto_encoder.compile(optimizer=optimizer, loss=loss)\n",
    "#     auto_encoder.fit(input_matrix, input_matrix, epochs=10, batch_size=1)\n",
    "\n",
    "#     return auto_encoder.predict(input_matrix)\n",
    "\n",
    "# matrix_reproduce = simple_auto_encode(matrix_pca)"
   ]
  },
  {
   "cell_type": "code",
   "execution_count": 298,
   "metadata": {},
   "outputs": [],
   "source": [
    "matrix_reproduce = np.loadtxt('reproduce.txt', dtype='float32')"
   ]
  },
  {
   "cell_type": "code",
   "execution_count": 299,
   "metadata": {},
   "outputs": [],
   "source": [
    "mse = ((matrix_pca - matrix_reproduce)**2).mean(axis=1)"
   ]
  },
  {
   "cell_type": "code",
   "execution_count": 300,
   "metadata": {},
   "outputs": [
    {
     "data": {
      "text/plain": [
       "55261.93257888302"
      ]
     },
     "execution_count": 300,
     "metadata": {},
     "output_type": "execute_result"
    }
   ],
   "source": [
    "mse.max()"
   ]
  },
  {
   "cell_type": "code",
   "execution_count": 301,
   "metadata": {},
   "outputs": [
    {
     "data": {
      "image/png": "[encoded data removed]",
      "text/plain": [
       "<Figure size 432x288 with 1 Axes>"
      ]
     },
     "metadata": {
      "needs_background": "light"
     },
     "output_type": "display_data"
    }
   ],
   "source": [
    "plt.hist(mse, bins=100, range=(0,0.001))\n",
    "plt.show()\n",
    "## Mse has the most ideal distribution. Therefore we use mse as fraud score 2."
   ]
  },
  {
   "cell_type": "code",
   "execution_count": 302,
   "metadata": {},
   "outputs": [
    {
     "data": {
      "text/plain": [
       "55261.93257888302"
      ]
     },
     "execution_count": 302,
     "metadata": {},
     "output_type": "execute_result"
    }
   ],
   "source": [
    "mse.max()"
   ]
  },
  {
   "cell_type": "code",
   "execution_count": 303,
   "metadata": {},
   "outputs": [],
   "source": [
    "measurement = (((matrix_pca - matrix_reproduce)**2).sum(axis=1))**0.5"
   ]
  },
  {
   "cell_type": "code",
   "execution_count": 304,
   "metadata": {},
   "outputs": [
    {
     "data": {
      "image/png": "[encoded data removed]",
      "text/plain": [
       "<Figure size 432x288 with 1 Axes>"
      ]
     },
     "metadata": {
      "needs_background": "light"
     },
     "output_type": "display_data"
    }
   ],
   "source": [
    "plt.hist(measurement, bins=100, range=(0,0.1))\n",
    "plt.show()"
   ]
  },
  {
   "cell_type": "code",
   "execution_count": 305,
   "metadata": {},
   "outputs": [],
   "source": [
    "scaled_pca[\"mae\"] = (matrix_pca - matrix_reproduce).mean(axis=1)\n",
    "scaled_pca[\"MAHAL\"]=(scaled_pca[\"PC1\"]**2+scaled_pca[\"PC2\"]**2+scaled_pca[\"PC3\"]**2+scaled_pca[\"PC4\"]**2+scaled_pca[\"PC5\"]**2+scaled_pca[\"PC6\"]**2+scaled_pca[\"PC7\"]**2+scaled_pca[\"PC8\"]**2+scaled_pca[\"PC9\"]**2+scaled_pca[\"PC10\"]**2)**0.5"
   ]
  },
  {
   "cell_type": "code",
   "execution_count": 306,
   "metadata": {},
   "outputs": [
    {
     "data": {
      "image/png": "[encoded data removed]",
      "text/plain": [
       "<Figure size 432x288 with 1 Axes>"
      ]
     },
     "metadata": {
      "needs_background": "light"
     },
     "output_type": "display_data"
    }
   ],
   "source": [
    "plt.hist(scaled_pca[\"mae\"], bins=100, range=(0,0.1))\n",
    "plt.show()"
   ]
  },
  {
   "cell_type": "code",
   "execution_count": 307,
   "metadata": {},
   "outputs": [
    {
     "data": {
      "text/plain": [
       "Int64Index([632816, 126404, 126399, 138829, 585118, 108896, 85886, 918305,\n",
       "            934793, 934780],\n",
       "           dtype='int64')"
      ]
     },
     "execution_count": 307,
     "metadata": {},
     "output_type": "execute_result"
    }
   ],
   "source": [
    "## Create 3 measures\n",
    "scaled_pca[\"mse\"] = ((matrix_pca - matrix_reproduce)**2).mean(axis=1)\n",
    "scaled_pca[\"measurement\"] = (((matrix_pca - matrix_reproduce)**2).sum(axis=1))**0.5\n",
    "scaled_pca[\"MAHAL\"]=(scaled_pca[\"PC1\"]**2+scaled_pca[\"PC2\"]**2+scaled_pca[\"PC3\"]**2+scaled_pca[\"PC4\"]**2+scaled_pca[\"PC5\"]**2+scaled_pca[\"PC6\"]**2+scaled_pca[\"PC7\"]**2+scaled_pca[\"PC8\"]**2+scaled_pca[\"PC9\"]**2+scaled_pca[\"PC10\"]**2)**0.5\n",
    "\n",
    "## Create 3 ranks and Combined rank\n",
    "scaled_pca[\"MahalRank\"] = scaled_pca[\"MAHAL\"].rank()\n",
    "scaled_pca[\"MeasurementRank\"] = scaled_pca[\"measurement\"].rank()\n",
    "scaled_pca[\"CombRank\"] = (scaled_pca[\"MahalRank\"]+scaled_pca[\"MeasurementRank\"])/2\n",
    "sorted_comb = scaled_pca.sort_values(\"CombRank\",ascending=False)\n",
    "sorted_comb[0:10]\n",
    "\n",
    "## Get top 10\n",
    "sorted_comb[0:10].index\n",
    "\n",
    "#df.iloc[632816]\n",
    "#df.iloc[sorted_comb[0:10].index]"
   ]
  },
  {
   "cell_type": "code",
   "execution_count": 345,
   "metadata": {},
   "outputs": [
    {
     "data": {
      "text/plain": [
       "PC1                    -0.718701\n",
       "PC2                     0.076304\n",
       "PC3                    -0.504719\n",
       "PC4                     0.033340\n",
       "PC5                    -0.495589\n",
       "PC6                     0.250080\n",
       "PC7                    -0.166077\n",
       "PC8                     0.070753\n",
       "PC9                    -0.068338\n",
       "PC10                   -0.261261\n",
       "mae                     0.004072\n",
       "MAHAL                   1.091728\n",
       "mse                     0.000060\n",
       "measurement             0.024462\n",
       "MahalRank          116538.000000\n",
       "MeasurementRank    141649.000000\n",
       "CombRank           129093.500000\n",
       "Name: 376242, dtype: float64"
      ]
     },
     "execution_count": 345,
     "metadata": {},
     "output_type": "execute_result"
    }
   ],
   "source": [
    "top_ten = sorted_comb[0:10].index\n",
    "df[df.index.isin(top_ten)]\n",
    "scaled_pca.loc[376242]"
   ]
  },
  {
   "cell_type": "code",
   "execution_count": 350,
   "metadata": {},
   "outputs": [
    {
     "data": {
      "image/png": "[encoded data removed]",
      "text/plain": [
       "<Figure size 432x288 with 1 Axes>"
      ]
     },
     "metadata": {
      "needs_background": "light"
     },
     "output_type": "display_data"
    }
   ],
   "source": [
    "plt.hist(scaled_pca[\"MAHAL\"], bins=100, range=(0,10))\n",
    "plt.xlabel('Fraud Measurement (Mahalanobis Distance)')\n",
    "plt.ylabel('Count')\n",
    "plt.show()"
   ]
  },
  {
   "cell_type": "code",
   "execution_count": 351,
   "metadata": {},
   "outputs": [],
   "source": [
    "sorted_comb[0:10].to_csv('rank.csv')"
   ]
  },
  {
   "cell_type": "code",
   "execution_count": null,
   "metadata": {},
   "outputs": [],
   "source": []
  }
 ],
 "metadata": {
  "kernelspec": {
   "display_name": "Python 3",
   "language": "python",
   "name": "python3"
  },
  "language_info": {
   "codemirror_mode": {
    "name": "ipython",
    "version": 3
   },
   "file_extension": ".py",
   "mimetype": "text/x-python",
   "name": "python",
   "nbconvert_exporter": "python",
   "pygments_lexer": "ipython3",
   "version": "3.6.6"
  }
 },
 "nbformat": 4,
 "nbformat_minor": 2
}
